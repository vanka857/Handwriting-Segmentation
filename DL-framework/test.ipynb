{
 "cells": [
  {
   "cell_type": "code",
   "execution_count": 1,
   "metadata": {},
   "outputs": [
    {
     "name": "stderr",
     "output_type": "stream",
     "text": [
      "/home/kudrjavtseviv/DL-framework/.venv-hwr-train-2/lib/python3.8/site-packages/tqdm/auto.py:21: TqdmWarning: IProgress not found. Please update jupyter and ipywidgets. See https://ipywidgets.readthedocs.io/en/stable/user_install.html\n",
      "  from .autonotebook import tqdm as notebook_tqdm\n"
     ]
    }
   ],
   "source": [
    "import os\n",
    "cuda_devices = '0, 1, 2, 3, 4, 5, 6, 7'\n",
    "os.environ['CUDA_VISIBLE_DEVICES'] = cuda_devices\n",
    "\n",
    "import torch\n",
    "import gc\n",
    "torch.cuda.empty_cache()\n",
    "gc.collect()\n",
    "\n",
    "import pytorch_lightning as pl\n",
    "\n",
    "from callbacks import SaveImagesCallback, LoadImageToTensorBoard\n",
    "\n",
    "from datasets_m import HwrOnPrintedDataModule\n",
    "from losses import DiceLoss, BCEDiceLoss, TverskyLoss, FocalTverskyLoss\n",
    "from models import Unet, ResNet\n",
    "import torch.nn as nn"
   ]
  },
  {
   "cell_type": "code",
   "execution_count": 2,
   "metadata": {},
   "outputs": [],
   "source": [
    "ds_path = '/home/kudrjavtseviv/data/dataset_1'\n",
    "model_data_path = '/home/kudrjavtseviv/DL-framework/.data'\n",
    "\n",
    "checkpoints_path = os.path.join(model_data_path, 'checkpoints')"
   ]
  },
  {
   "cell_type": "code",
   "execution_count": 13,
   "metadata": {},
   "outputs": [],
   "source": [
    "class HP:\n",
    "    def __init__(self, model_type, loss, loss_params, batch_size, image_height, image_width, ds_part, epoches, features) -> None:\n",
    "        self.model_type = model_type\n",
    "        self.loss = loss(**loss_params)\n",
    "        self.loss_params = loss_params\n",
    "        self.loss_name = self.loss.__name__\n",
    "        self.batch_size = batch_size\n",
    "        self.image_height = image_height\n",
    "        self.image_width = image_width\n",
    "        self.ds_part = ds_part\n",
    "        self.epoches = epoches\n",
    "        self.features = features\n",
    "        self.model_name = f'{model_type}-{features[-1]}_{features[0]}-{image_height}_{image_width}-{self.loss_name}'\n",
    "    \n",
    "    def dict_for_log(self):\n",
    "        return {\n",
    "            'MODEL_NAME': self.model_name,\n",
    "            'LOSS': self.loss_name, \n",
    "            'LOSS_PARAMS': str(self.loss_params), \n",
    "            'EPOCHES': self.epoches,\n",
    "            'FEATURES': str(self.features),\n",
    "            'DS_SIZE': self.ds_part,\n",
    "            'IMAGE_HEIGHT': self.image_height,\n",
    "            'IMAGE_WIDTH': self.image_width\n",
    "        }\n",
    "    \n",
    "    def __str__(self):\n",
    "        return str(self.dict_for_log())"
   ]
  },
  {
   "cell_type": "code",
   "execution_count": 18,
   "metadata": {},
   "outputs": [],
   "source": [
    "DS_PART = None\n",
    "IMAGE_HEIGHT = 800\n",
    "IMAGE_WIDTH = 600\n",
    "BATCH_SIZE = 2\n",
    "EPOCHES = 25\n",
    "\n",
    "configs = [\n",
    "    HP(\n",
    "    model_type='Unet',\n",
    "    loss=DiceLoss,\n",
    "    loss_params={'activation': None},\n",
    "    batch_size=BATCH_SIZE,\n",
    "    image_height=IMAGE_HEIGHT,\n",
    "    image_width=IMAGE_WIDTH,\n",
    "    ds_part=DS_PART,\n",
    "    epoches=EPOCHES,\n",
    "    features=[32, 64, 128, 256],\n",
    "    ),\n",
    "]\n",
    "\n",
    "checkpoint_path = os.path.join('/home/kudrjavtseviv/DL-framework/.data/logs/lightning_logs/version_124/Unet-256_32-800_600-dice_loss/epoch23-val_loss0.07.ckpt')"
   ]
  },
  {
   "cell_type": "code",
   "execution_count": 19,
   "metadata": {},
   "outputs": [
    {
     "name": "stderr",
     "output_type": "stream",
     "text": [
      "GPU available: True, used: True\n",
      "TPU available: False, using: 0 TPU cores\n",
      "IPU available: False, using: 0 IPUs\n",
      "HPU available: False, using: 0 HPUs\n",
      "LOCAL_RANK: 0 - CUDA_VISIBLE_DEVICES: [0, 1, 2, 3, 4, 5, 6, 7]\n"
     ]
    },
    {
     "name": "stdout",
     "output_type": "stream",
     "text": [
      "Testing DataLoader 0: 100%|██████████| 1008/1008 [00:49<00:00, 20.57it/s]\n",
      "────────────────────────────────────────────────────────────────────────────────────────────────────────────────────────\n",
      "       Test metric             DataLoader 0\n",
      "────────────────────────────────────────────────────────────────────────────────────────────────────────────────────────\n",
      "        _acc/test           0.9791485667228699\n",
      "       _loss/test           0.07107832282781601\n",
      "     _precision/test        0.9492456316947937\n",
      "      _recall/test          0.9099568128585815\n",
      "────────────────────────────────────────────────────────────────────────────────────────────────────────────────────────\n"
     ]
    }
   ],
   "source": [
    "hparams = configs[0]\n",
    "\n",
    "# MODEL\n",
    "model = Unet.load_from_checkpoint(checkpoint_path, map_location=torch.device('cuda'), features=hparams.features, loss=hparams.loss)\n",
    "\n",
    "# DATA MODULE\n",
    "dm = HwrOnPrintedDataModule(\n",
    "    path={\n",
    "        'train': os.path.join(ds_path, 'train/result'),\n",
    "        'val': os.path.join(ds_path, 'val/result'),\n",
    "        'test': os.path.join(ds_path, 'test/result')\n",
    "    },\n",
    "    batch_size=hparams.batch_size,\n",
    "    num_workers=10,\n",
    "    pin_memory=True if torch.cuda.is_available() else False,\n",
    "    image_height=hparams.image_height,\n",
    "    image_width=hparams.image_width,\n",
    "    ds_part=hparams.ds_part\n",
    "    )\n",
    "\n",
    "ds_path = '/home/kudrjavtseviv/data/dataset_1'\n",
    "model_data_path = '/home/kudrjavtseviv/DL-framework/.data'\n",
    "\n",
    "logs_path = os.path.join(model_data_path, 'logs')\n",
    "\n",
    "# UTILS\n",
    "tb_logger = pl.loggers.TensorBoardLogger(save_dir=logs_path)\n",
    "checkpoint_callback = pl.callbacks.ModelCheckpoint(\n",
    "    monitor='_loss/val',\n",
    "    dirpath=os.path.join(tb_logger.log_dir, hparams.model_name),\n",
    "    filename='epoch{epoch:02d}-val_loss{_loss/val:.2f}',\n",
    "    auto_insert_metric_name=False,\n",
    "    save_top_k=3\n",
    ")\n",
    "\n",
    "# TRAINER\n",
    "trainer = pl.Trainer(\n",
    "    gpus=[1],\n",
    "    max_epochs=hparams.epoches, \n",
    "    log_every_n_steps=2, \n",
    "    callbacks=[checkpoint_callback], \n",
    "    # callbacks=[checkpoint_callback, load_images_to_tb, lr_logger, early_stopping], \n",
    "    # callbacks=[checkpoint_callback, save_images_callback, load_images_to_tb, lr_logger, early_stopping], \n",
    "    logger=tb_logger)\n",
    "\n",
    "# dm.setup('fit')\n",
    "# trainer.fit(model, dm)\n",
    "trainer.test(model, dm)\n",
    "\n",
    "tb_logger.log_hyperparams(hparams.dict_for_log())\n",
    "tb_logger.finalize(\"success\")\n"
   ]
  }
 ],
 "metadata": {
  "kernelspec": {
   "display_name": ".venv-hwr-train-2",
   "language": "python",
   "name": "python3"
  },
  "language_info": {
   "codemirror_mode": {
    "name": "ipython",
    "version": 3
   },
   "file_extension": ".py",
   "mimetype": "text/x-python",
   "name": "python",
   "nbconvert_exporter": "python",
   "pygments_lexer": "ipython3",
   "version": "3.8.16"
  },
  "orig_nbformat": 4
 },
 "nbformat": 4,
 "nbformat_minor": 2
}
